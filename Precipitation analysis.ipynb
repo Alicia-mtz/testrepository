{
    "cells": [
        {
            "cell_type": "markdown",
            "metadata": {},
            "source": "# Description\nThis notebook analyzes and visualizes precipitation data but I used a Food.csv from the internet to do the exercise"
        },
        {
            "cell_type": "code",
            "execution_count": 1,
            "metadata": {},
            "outputs": [
                {
                    "data": {
                        "text/html": "<div>\n<style scoped>\n    .dataframe tbody tr th:only-of-type {\n        vertical-align: middle;\n    }\n\n    .dataframe tbody tr th {\n        vertical-align: top;\n    }\n\n    .dataframe thead th {\n        text-align: right;\n    }\n</style>\n<table border=\"1\" class=\"dataframe\">\n  <thead>\n    <tr style=\"text-align: right;\">\n      <th></th>\n      <th>FOOD NAME</th>\n      <th>SCIENTIFIC NAME</th>\n      <th>GROUP</th>\n      <th>SUB GROUP</th>\n    </tr>\n  </thead>\n  <tbody>\n    <tr>\n      <th>0</th>\n      <td>Angelica</td>\n      <td>Angelica keiskei</td>\n      <td>Herbs and Spices</td>\n      <td>Herbs</td>\n    </tr>\n    <tr>\n      <th>1</th>\n      <td>Savoy cabbage</td>\n      <td>Brassica oleracea var. sabauda</td>\n      <td>Vegetables</td>\n      <td>Cabbages</td>\n    </tr>\n    <tr>\n      <th>2</th>\n      <td>Silver linden</td>\n      <td>Tilia argentea</td>\n      <td>Herbs and Spices</td>\n      <td>Herbs</td>\n    </tr>\n    <tr>\n      <th>3</th>\n      <td>Kiwi</td>\n      <td>Actinidia chinensis</td>\n      <td>Fruits</td>\n      <td>Tropical fruits</td>\n    </tr>\n    <tr>\n      <th>4</th>\n      <td>Allium (Onion)</td>\n      <td>Allium</td>\n      <td>Vegetables</td>\n      <td>Onion-family vegetables</td>\n    </tr>\n  </tbody>\n</table>\n</div>",
                        "text/plain": "        FOOD NAME                 SCIENTIFIC NAME             GROUP  \\\n0        Angelica                Angelica keiskei  Herbs and Spices   \n1   Savoy cabbage  Brassica oleracea var. sabauda        Vegetables   \n2   Silver linden                  Tilia argentea  Herbs and Spices   \n3            Kiwi             Actinidia chinensis            Fruits   \n4  Allium (Onion)                          Allium        Vegetables   \n\n                 SUB GROUP  \n0                    Herbs  \n1                 Cabbages  \n2                    Herbs  \n3          Tropical fruits  \n4  Onion-family vegetables  "
                    },
                    "execution_count": 1,
                    "metadata": {},
                    "output_type": "execute_result"
                }
            ],
            "source": "# The code was removed by Watson Studio for sharing."
        },
        {
            "cell_type": "code",
            "execution_count": null,
            "metadata": {},
            "outputs": [],
            "source": ""
        }
    ],
    "metadata": {
        "kernelspec": {
            "display_name": "Python 3.7",
            "language": "python",
            "name": "python3"
        },
        "language_info": {
            "codemirror_mode": {
                "name": "ipython",
                "version": 3
            },
            "file_extension": ".py",
            "mimetype": "text/x-python",
            "name": "python",
            "nbconvert_exporter": "python",
            "pygments_lexer": "ipython3",
            "version": "3.7.9"
        }
    },
    "nbformat": 4,
    "nbformat_minor": 1
}